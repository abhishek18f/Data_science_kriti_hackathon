{
 "cells": [
  {
   "cell_type": "code",
   "execution_count": 2,
   "metadata": {},
   "outputs": [],
   "source": [
    "import numpy as np\n",
    "import pandas as pd\n",
    "import matplotlib.pyplot as plt\n",
    "from datetime import datetime\n",
    "from sklearn.preprocessing import LabelEncoder"
   ]
  },
  {
   "cell_type": "code",
   "execution_count": 3,
   "metadata": {},
   "outputs": [
    {
     "data": {
      "text/html": [
       "<div>\n",
       "<style scoped>\n",
       "    .dataframe tbody tr th:only-of-type {\n",
       "        vertical-align: middle;\n",
       "    }\n",
       "\n",
       "    .dataframe tbody tr th {\n",
       "        vertical-align: top;\n",
       "    }\n",
       "\n",
       "    .dataframe thead th {\n",
       "        text-align: right;\n",
       "    }\n",
       "</style>\n",
       "<table border=\"1\" class=\"dataframe\">\n",
       "  <thead>\n",
       "    <tr style=\"text-align: right;\">\n",
       "      <th></th>\n",
       "      <th>Unnamed: 0</th>\n",
       "      <th>ID</th>\n",
       "      <th>Salary</th>\n",
       "      <th>JobCity</th>\n",
       "      <th>Gender</th>\n",
       "      <th>DOB</th>\n",
       "      <th>10percentage</th>\n",
       "      <th>10board</th>\n",
       "      <th>12graduation</th>\n",
       "      <th>12percentage</th>\n",
       "      <th>...</th>\n",
       "      <th>ComputerScience</th>\n",
       "      <th>MechanicalEngg</th>\n",
       "      <th>ElectricalEngg</th>\n",
       "      <th>TelecomEngg</th>\n",
       "      <th>CivilEngg</th>\n",
       "      <th>conscientiousness</th>\n",
       "      <th>agreeableness</th>\n",
       "      <th>extraversion</th>\n",
       "      <th>nueroticism</th>\n",
       "      <th>openess_to_experience</th>\n",
       "    </tr>\n",
       "  </thead>\n",
       "  <tbody>\n",
       "    <tr>\n",
       "      <td>0</td>\n",
       "      <td>0</td>\n",
       "      <td>0</td>\n",
       "      <td>200000</td>\n",
       "      <td>Bangalore</td>\n",
       "      <td>m</td>\n",
       "      <td>1990-01-15</td>\n",
       "      <td>55.5</td>\n",
       "      <td>state board</td>\n",
       "      <td>2007.0</td>\n",
       "      <td>52.5</td>\n",
       "      <td>...</td>\n",
       "      <td>-1</td>\n",
       "      <td>-1</td>\n",
       "      <td>-1</td>\n",
       "      <td>-1</td>\n",
       "      <td>-1</td>\n",
       "      <td>NaN</td>\n",
       "      <td>-0.6201</td>\n",
       "      <td>-0.1437</td>\n",
       "      <td>0.9066</td>\n",
       "      <td>-1.6273</td>\n",
       "    </tr>\n",
       "    <tr>\n",
       "      <td>1</td>\n",
       "      <td>1</td>\n",
       "      <td>1</td>\n",
       "      <td>190000</td>\n",
       "      <td>Chennai</td>\n",
       "      <td>m</td>\n",
       "      <td>1990-11-02</td>\n",
       "      <td>83.0</td>\n",
       "      <td>state board</td>\n",
       "      <td>NaN</td>\n",
       "      <td>86.0</td>\n",
       "      <td>...</td>\n",
       "      <td>-1</td>\n",
       "      <td>-1</td>\n",
       "      <td>-1</td>\n",
       "      <td>313</td>\n",
       "      <td>-1</td>\n",
       "      <td>-0.1590</td>\n",
       "      <td>0.8784</td>\n",
       "      <td>0.7785</td>\n",
       "      <td>0.1459</td>\n",
       "      <td>1.2470</td>\n",
       "    </tr>\n",
       "    <tr>\n",
       "      <td>2</td>\n",
       "      <td>2</td>\n",
       "      <td>2</td>\n",
       "      <td>335000</td>\n",
       "      <td>Chennai &amp; Mumbai</td>\n",
       "      <td>m</td>\n",
       "      <td>1991-07-31</td>\n",
       "      <td>81.2</td>\n",
       "      <td>cbse</td>\n",
       "      <td>2008.0</td>\n",
       "      <td>75.4</td>\n",
       "      <td>...</td>\n",
       "      <td>500</td>\n",
       "      <td>-1</td>\n",
       "      <td>-1</td>\n",
       "      <td>-1</td>\n",
       "      <td>-1</td>\n",
       "      <td>-1.0208</td>\n",
       "      <td>-1.1196</td>\n",
       "      <td>-0.6048</td>\n",
       "      <td>0.5262</td>\n",
       "      <td>0.2889</td>\n",
       "    </tr>\n",
       "    <tr>\n",
       "      <td>3</td>\n",
       "      <td>3</td>\n",
       "      <td>3</td>\n",
       "      <td>325000</td>\n",
       "      <td>Noida</td>\n",
       "      <td>m</td>\n",
       "      <td>1990-07-16</td>\n",
       "      <td>85.0</td>\n",
       "      <td>cbse</td>\n",
       "      <td>2008.0</td>\n",
       "      <td>68.6</td>\n",
       "      <td>...</td>\n",
       "      <td>-1</td>\n",
       "      <td>-1</td>\n",
       "      <td>-1</td>\n",
       "      <td>-1</td>\n",
       "      <td>-1</td>\n",
       "      <td>-0.9969</td>\n",
       "      <td>0.0328</td>\n",
       "      <td>-0.3440</td>\n",
       "      <td>0.7086</td>\n",
       "      <td>-1.2354</td>\n",
       "    </tr>\n",
       "    <tr>\n",
       "      <td>4</td>\n",
       "      <td>4</td>\n",
       "      <td>4</td>\n",
       "      <td>360000</td>\n",
       "      <td>Chennai</td>\n",
       "      <td>m</td>\n",
       "      <td>1991-07-14</td>\n",
       "      <td>89.9</td>\n",
       "      <td>state board</td>\n",
       "      <td>NaN</td>\n",
       "      <td>84.5</td>\n",
       "      <td>...</td>\n",
       "      <td>-1</td>\n",
       "      <td>-1</td>\n",
       "      <td>-1</td>\n",
       "      <td>-1</td>\n",
       "      <td>-1</td>\n",
       "      <td>1.2772</td>\n",
       "      <td>0.8784</td>\n",
       "      <td>0.4711</td>\n",
       "      <td>-0.7415</td>\n",
       "      <td>0.4805</td>\n",
       "    </tr>\n",
       "  </tbody>\n",
       "</table>\n",
       "<p>5 rows × 36 columns</p>\n",
       "</div>"
      ],
      "text/plain": [
       "   Unnamed: 0  ID  Salary           JobCity Gender         DOB  10percentage  \\\n",
       "0           0   0  200000         Bangalore      m  1990-01-15          55.5   \n",
       "1           1   1  190000           Chennai      m  1990-11-02          83.0   \n",
       "2           2   2  335000  Chennai & Mumbai      m  1991-07-31          81.2   \n",
       "3           3   3  325000             Noida      m  1990-07-16          85.0   \n",
       "4           4   4  360000           Chennai      m  1991-07-14          89.9   \n",
       "\n",
       "       10board  12graduation  12percentage  ... ComputerScience  \\\n",
       "0  state board        2007.0          52.5  ...              -1   \n",
       "1  state board           NaN          86.0  ...              -1   \n",
       "2         cbse        2008.0          75.4  ...             500   \n",
       "3         cbse        2008.0          68.6  ...              -1   \n",
       "4  state board           NaN          84.5  ...              -1   \n",
       "\n",
       "   MechanicalEngg  ElectricalEngg TelecomEngg CivilEngg  conscientiousness  \\\n",
       "0              -1              -1          -1        -1                NaN   \n",
       "1              -1              -1         313        -1            -0.1590   \n",
       "2              -1              -1          -1        -1            -1.0208   \n",
       "3              -1              -1          -1        -1            -0.9969   \n",
       "4              -1              -1          -1        -1             1.2772   \n",
       "\n",
       "   agreeableness  extraversion nueroticism  openess_to_experience  \n",
       "0        -0.6201       -0.1437      0.9066                -1.6273  \n",
       "1         0.8784        0.7785      0.1459                 1.2470  \n",
       "2        -1.1196       -0.6048      0.5262                 0.2889  \n",
       "3         0.0328       -0.3440      0.7086                -1.2354  \n",
       "4         0.8784        0.4711     -0.7415                 0.4805  \n",
       "\n",
       "[5 rows x 36 columns]"
      ]
     },
     "execution_count": 3,
     "metadata": {},
     "output_type": "execute_result"
    }
   ],
   "source": [
    "train = pd.read_csv('data/training_data.csv') \n",
    "test = pd.read_csv('data/testing_data.csv')\n",
    "train.head()"
   ]
  },
  {
   "cell_type": "code",
   "execution_count": 4,
   "metadata": {},
   "outputs": [
    {
     "data": {
      "text/plain": [
       "2330"
      ]
     },
     "execution_count": 4,
     "metadata": {},
     "output_type": "execute_result"
    }
   ],
   "source": [
    "(train['ComputerScience'] == -1).sum()"
   ]
  },
  {
   "cell_type": "code",
   "execution_count": 5,
   "metadata": {},
   "outputs": [
    {
     "data": {
      "text/plain": [
       "2876"
      ]
     },
     "execution_count": 5,
     "metadata": {},
     "output_type": "execute_result"
    }
   ],
   "source": [
    "(train['ElectricalEngg'] == -1).sum()"
   ]
  },
  {
   "cell_type": "code",
   "execution_count": 6,
   "metadata": {},
   "outputs": [
    {
     "data": {
      "text/plain": [
       "2821"
      ]
     },
     "execution_count": 6,
     "metadata": {},
     "output_type": "execute_result"
    }
   ],
   "source": [
    "(train['MechanicalEngg'] == -1).sum()"
   ]
  },
  {
   "cell_type": "code",
   "execution_count": 7,
   "metadata": {},
   "outputs": [
    {
     "data": {
      "text/plain": [
       "2967"
      ]
     },
     "execution_count": 7,
     "metadata": {},
     "output_type": "execute_result"
    }
   ],
   "source": [
    "(train['CivilEngg'] == -1).sum()"
   ]
  },
  {
   "cell_type": "code",
   "execution_count": null,
   "metadata": {},
   "outputs": [],
   "source": []
  }
 ],
 "metadata": {
  "kernelspec": {
   "display_name": "Python 3",
   "language": "python",
   "name": "python3"
  },
  "language_info": {
   "codemirror_mode": {
    "name": "ipython",
    "version": 3
   },
   "file_extension": ".py",
   "mimetype": "text/x-python",
   "name": "python",
   "nbconvert_exporter": "python",
   "pygments_lexer": "ipython3",
   "version": "3.6.9"
  }
 },
 "nbformat": 4,
 "nbformat_minor": 2
}
